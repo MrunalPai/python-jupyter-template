{
 "cells": [
  {
   "cell_type": "markdown",
   "metadata": {},
   "source": [
    "### Exercise 2: Bar Plot with Colors"
   ]
  },
  {
   "cell_type": "code",
   "execution_count": null,
   "metadata": {},
   "outputs": [],
   "source": [
    "# TASK: Create a bar plot with the following data: categories = ['A', 'B', 'C', 'D'] and values = [5, 7, 3, 9].\n",
    "# Use different colors for each bar and add a title to the plot.\n",
    "import matplotlib.pyplot as plt\n",
    "\n",
    "# Data for the bar plot\n",
    "categories = ['A', 'B', 'C', 'D']\n",
    "values = [5, 7, 3, 9]\n",
    "colors = ['blue', 'green', 'red', 'orange']\n",
    "\n",
    "try:\n",
    "    # Ensure that categories, values, and colors have the same length\n",
    "    if len(categories) != len(values) or len(values) != len(colors):\n",
    "        raise ValueError(\"Categories, values, and colors lists must have the same length.\")\n",
    "\n",
    "    # Create the bar plot\n",
    "    plt.bar(categories, values, color=colors)\n",
    "\n",
    "    # Add title and labels\n",
    "    plt.title(\"Bar Plot for Categories\")\n",
    "    plt.xlabel(\"Categories\")\n",
    "    plt.ylabel(\"Values\")\n",
    "\n",
    "    # Display the plot\n",
    "    plt.show()\n",
    "\n",
    "except ValueError as e:\n",
    "    print(f\"Error: {e}\")\n",
    "except Exception as e:\n",
    "    print(f\"An unexpected error occurred: {e}\")"
   ]
  }
 ],
 "metadata": {
  "language_info": {
   "name": "python"
  }
 },
 "nbformat": 4,
 "nbformat_minor": 2
}
